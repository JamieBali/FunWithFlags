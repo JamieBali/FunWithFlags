{
  "nbformat": 4,
  "nbformat_minor": 0,
  "metadata": {
    "colab": {
      "provenance": [],
      "authorship_tag": "ABX9TyPd3D7iJCi3uStDf5thFT4F",
      "include_colab_link": true
    },
    "kernelspec": {
      "name": "python3",
      "display_name": "Python 3"
    },
    "language_info": {
      "name": "python"
    },
    "accelerator": "GPU"
  },
  "cells": [
    {
      "cell_type": "markdown",
      "metadata": {
        "id": "view-in-github",
        "colab_type": "text"
      },
      "source": [
        "<a href=\"https://colab.research.google.com/github/JamieBali/FunWithFlags/blob/main/Fun_With_Flags.ipynb\" target=\"_parent\"><img src=\"https://colab.research.google.com/assets/colab-badge.svg\" alt=\"Open In Colab\"/></a>"
      ]
    },
    {
      "cell_type": "markdown",
      "source": [
        "# Imports"
      ],
      "metadata": {
        "id": "z72blvoTOGMp"
      }
    },
    {
      "cell_type": "code",
      "execution_count": null,
      "metadata": {
        "colab": {
          "base_uri": "https://localhost:8080/"
        },
        "id": "yCgF2tutN3ni",
        "outputId": "fa44abd4-f6dc-45d3-b407-b0ea755c9307"
      },
      "outputs": [
        {
          "output_type": "stream",
          "name": "stdout",
          "text": [
            "Mounted at /content/gdrive\n"
          ]
        }
      ],
      "source": [
        "import tensorflow as tf\n",
        "from tensorflow import keras\n",
        "\n",
        "import pandas as pd\n",
        "import numpy as np\n",
        "import os, time\n",
        "\n",
        "from google.colab import drive\n",
        "drive.mount('/content/gdrive')"
      ]
    },
    {
      "cell_type": "markdown",
      "source": [
        "# Data"
      ],
      "metadata": {
        "id": "pizkD7yVRWet"
      }
    },
    {
      "cell_type": "code",
      "source": [
        "filepath = \"/content/gdrive/My Drive/Data.csv\"\n",
        "inp = pd.read_csv(filepath)\n",
        "\n",
        "data = inp[\"DATA\"]\n",
        "tags = inp[\"TAG\"]"
      ],
      "metadata": {
        "id": "II_5YVMfRWH-"
      },
      "execution_count": null,
      "outputs": []
    },
    {
      "cell_type": "code",
      "source": [
        "solutionMappings = ['albania','andorra','armenia','austria','azerbaijan','belarus','belgium','bosandherz','bulgaria','croatia','cyprus','czeech','denmark','estonia','finalnd','finland','france','georgia','germany','greece','hungary','iceland','ireland','italy','latvia','leichtenstein','lithuania','luxemourg','malta','moldova','monaco','montenegro','netherlands','northmacedonia','norway','poland','portugal','romania','russia','sanmarino','serbia','slovakia','slovenia','spain','sweden','switzerland','turkey','uk','ukraine']"
      ],
      "metadata": {
        "id": "h6XoCgx1WEnq"
      },
      "execution_count": null,
      "outputs": []
    },
    {
      "cell_type": "code",
      "source": [
        "inputs = []\n",
        "for obj in data:\n",
        "  real = []\n",
        "  for pit in obj:\n",
        "    if pit.isnumeric():\n",
        "      real.append(int(pit))\n",
        "  inputs.append(np.array(real))"
      ],
      "metadata": {
        "id": "JGmfx0YNTY7i"
      },
      "execution_count": null,
      "outputs": []
    },
    {
      "cell_type": "code",
      "source": [
        "tags_as_mappings = []\n",
        "for tag in tags:\n",
        "  tags_as_mappings.append(solutionMappings.index(tag))"
      ],
      "metadata": {
        "id": "lqMjJXcTUgxA"
      },
      "execution_count": null,
      "outputs": []
    },
    {
      "cell_type": "markdown",
      "source": [
        "# Model Creation and Training"
      ],
      "metadata": {
        "id": "CdUUOf3QRZYl"
      }
    },
    {
      "cell_type": "code",
      "source": [
        "from keras.layers import Activation\n",
        "from keras.layers import Conv3D, BatchNormalization, Dense, Flatten, Reshape\n",
        "from sklearn.model_selection import train_test_split\n",
        "\n",
        "class predictor():\n",
        "\n",
        "  model = None\n",
        "\n",
        "  def __init__(self):\n",
        "    self.model = keras.models.Sequential()\n",
        "    self.model.add(Dense(420))\n",
        "    self.model.add(Dense(420))\n",
        "    self.model.add(Dense(49))\n",
        "    self.model.add(Reshape((1,49)))\n",
        "    self.model.add(Activation('softmax'))\n",
        "\n",
        "    self.model.compile(loss='sparse_categorical_crossentropy', optimizer='adam')\n",
        "\n",
        "  def train(self, tr_puzzles, tr_solutions):\n",
        "        self.model.fit(np.array(tr_puzzles), np.array(tr_solutions), batch_size = 40, epochs=10, verbose=1)\n",
        "\n",
        "  def get_model(self):\n",
        "    return self.model\n",
        "\n",
        "  def solve(self, flag):\n",
        "    input_flag = np.array([np.copy(flag)])\n",
        "\n",
        "    output = self.model.predict(input_flag, verbose = 0).squeeze()\n",
        "\n",
        "    return(solutionMappings[np.argmax(output)])"
      ],
      "metadata": {
        "id": "L4x3AWuskt42"
      },
      "execution_count": null,
      "outputs": []
    },
    {
      "cell_type": "markdown",
      "source": [
        "# Training the Solver"
      ],
      "metadata": {
        "id": "jOjf9pacn64L"
      }
    },
    {
      "cell_type": "code",
      "source": [
        "model = predictor()\n",
        "model.train(inputs,tags_as_mappings)"
      ],
      "metadata": {
        "colab": {
          "base_uri": "https://localhost:8080/"
        },
        "id": "6kAxUHEIYjN3",
        "outputId": "3e5aad57-9661-4c7d-9e63-a4676273d59d"
      },
      "execution_count": null,
      "outputs": [
        {
          "output_type": "stream",
          "name": "stdout",
          "text": [
            "Epoch 1/10\n",
            "4/4 [==============================] - 1s 5ms/step - loss: 3.7325\n",
            "Epoch 2/10\n",
            "4/4 [==============================] - 0s 5ms/step - loss: 1.7631\n",
            "Epoch 3/10\n",
            "4/4 [==============================] - 0s 4ms/step - loss: 0.8154\n",
            "Epoch 4/10\n",
            "4/4 [==============================] - 0s 5ms/step - loss: 0.4643\n",
            "Epoch 5/10\n",
            "4/4 [==============================] - 0s 4ms/step - loss: 0.3022\n",
            "Epoch 6/10\n",
            "4/4 [==============================] - 0s 3ms/step - loss: 0.2438\n",
            "Epoch 7/10\n",
            "4/4 [==============================] - 0s 4ms/step - loss: 0.1782\n",
            "Epoch 8/10\n",
            "4/4 [==============================] - 0s 4ms/step - loss: 0.1788\n",
            "Epoch 9/10\n",
            "4/4 [==============================] - 0s 4ms/step - loss: 0.1565\n",
            "Epoch 10/10\n",
            "4/4 [==============================] - 0s 4ms/step - loss: 0.1481\n"
          ]
        }
      ]
    },
    {
      "cell_type": "code",
      "source": [
        "flagno = 0\n",
        "guess = model.solve(trial)\n",
        "print(\"flag guessed was : \" + guess)"
      ],
      "metadata": {
        "colab": {
          "base_uri": "https://localhost:8080/"
        },
        "id": "4gdwuMYxY7Mv",
        "outputId": "f0a4f31a-ed99-4caf-a2b4-dc2fdc106e61"
      },
      "execution_count": null,
      "outputs": [
        {
          "output_type": "stream",
          "name": "stdout",
          "text": [
            "flag guessed was : switzerland\n"
          ]
        }
      ]
    },
    {
      "cell_type": "code",
      "source": [
        "trial = [0, 0, 1, 0, 0, 0, 0, 0, 0, 1, 0, 0, 0, 0, 0, 0, 1, 0, 0, 0, 0, 0,\n",
        "       0, 1, 0, 0, 0, 0, 0, 0, 1, 0, 0, 0, 0, 0, 0, 1, 0, 0, 0, 0, 0, 0,\n",
        "       1, 0, 0, 0, 0, 0, 0, 1, 0, 0, 0, 0, 0, 0, 1, 0, 0, 0, 0, 0, 0, 1,\n",
        "       0, 0, 0, 0, 0, 0, 1, 0, 0, 0, 0, 0, 0, 1, 0, 0, 0, 0, 0, 0, 1, 0,\n",
        "       0, 0, 0, 0, 0, 1, 0, 0, 0, 0, 0, 0, 1, 0, 0, 0, 0, 1, 0, 0, 0, 0,\n",
        "       0, 0, 1, 0, 0, 0, 0, 0, 0, 0, 0, 1, 0, 0, 0, 0, 0, 0, 1, 0, 0, 0,\n",
        "       0, 0, 0, 1, 0, 0, 0, 0, 0, 0, 1, 0, 0, 0, 0, 0, 0, 1, 0, 0, 0, 0,\n",
        "       0, 0, 1, 0, 0, 0, 0, 0, 0, 1, 0, 0, 0, 0, 1, 0, 0, 0, 0, 0, 0, 1,\n",
        "       0, 0, 0, 0, 0, 0, 0, 0, 1, 0, 0, 0, 0, 0, 0, 1, 0, 0, 0, 0, 0, 0,\n",
        "       1, 0, 0, 0, 0, 0, 0, 1, 0, 0, 0, 0, 0, 0, 1, 0, 0, 0, 0, 0, 0, 1,\n",
        "       0, 0, 0, 0, 0, 0, 1, 0, 0, 0, 0, 1, 0, 0, 0, 0, 0, 0, 1, 0, 0, 0,\n",
        "       0, 0, 0, 1, 0, 0, 0, 0, 0, 0, 0, 0, 1, 0, 0, 0, 0, 0, 0, 1, 0, 0,\n",
        "       0, 0, 0, 0, 1, 0, 0, 0, 0, 0, 0, 1, 0, 0, 0, 0, 0, 0, 1, 0, 0, 0,\n",
        "       0, 0, 0, 1, 0, 0, 0, 0, 0, 0, 1, 0, 0, 0, 0, 0, 0, 1, 0, 0, 0, 0,\n",
        "       1, 0, 0, 0, 0, 0, 0, 1, 0, 0, 0, 0, 0, 0, 1, 0, 0, 0, 0, 0, 0, 0,\n",
        "       0, 1, 0, 0, 0, 0, 0, 0, 1, 0, 0, 0, 0, 0, 0, 1, 0, 0, 0, 0, 0, 0,\n",
        "       1, 0, 0, 0, 0, 0, 0, 1, 0, 0, 0, 0, 0, 0, 1, 0, 0, 0, 0, 0, 0, 1,\n",
        "       0, 0, 0, 0, 0, 0, 1, 0, 0, 0, 0, 1, 0, 0, 0, 0, 0, 0, 1, 0, 0, 0,\n",
        "       0, 0, 0, 0, 0, 1, 0, 0, 0, 0, 0, 0, 1, 0, 0, 0, 0, 0, 0, 1, 0, 0,\n",
        "       0, 0]"
      ],
      "metadata": {
        "id": "iDJM1br2yFxw"
      },
      "execution_count": null,
      "outputs": []
    },
    {
      "cell_type": "markdown",
      "source": [
        "# Now The \"Game\""
      ],
      "metadata": {
        "id": "GNH18nqQdDxO"
      }
    },
    {
      "cell_type": "code",
      "source": [
        "# display drawing window (don't think this can be done in colab)\n",
        "\n",
        "# allow user to draw\n",
        "\n",
        "# stick user's data into the network\n",
        "\n",
        "# predict the flag. +3 +2 +1 for first, second, third guess respectively\n",
        "\n",
        "# game ends if the network can't get it"
      ],
      "metadata": {
        "id": "JW5LSU_YhaOv"
      },
      "execution_count": null,
      "outputs": []
    }
  ]
}